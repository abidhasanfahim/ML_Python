{
  "nbformat": 4,
  "nbformat_minor": 0,
  "metadata": {
    "colab": {
      "provenance": [],
      "authorship_tag": "ABX9TyMsSU9Hk5Q6GjuZ48K803fm",
      "include_colab_link": true
    },
    "kernelspec": {
      "name": "python3",
      "display_name": "Python 3"
    },
    "language_info": {
      "name": "python"
    }
  },
  "cells": [
    {
      "cell_type": "markdown",
      "metadata": {
        "id": "view-in-github",
        "colab_type": "text"
      },
      "source": [
        "<a href=\"https://colab.research.google.com/github/abidhasanfahim/ML_Python/blob/main/ML_and_Python.ipynb\" target=\"_parent\"><img src=\"https://colab.research.google.com/assets/colab-badge.svg\" alt=\"Open In Colab\"/></a>"
      ]
    },
    {
      "cell_type": "code",
      "execution_count": 2,
      "metadata": {
        "colab": {
          "base_uri": "https://localhost:8080/"
        },
        "id": "vBIv43kuefP8",
        "outputId": "5ef5d781-5a76-4c26-bdf3-0d7a15478956"
      },
      "outputs": [
        {
          "output_type": "stream",
          "name": "stdout",
          "text": [
            "[1, 2, 3, 4, 5]\n",
            "[1, 'abid', True, False, 5]\n"
          ]
        }
      ],
      "source": [
        "list1 = [1,2,3,4,5]\n",
        "list2 = [1, \"abid\", True, False, 5]\n",
        "print(list1)\n",
        "print(list2) #lists are inefficient as they can take multiple variable and mutable\n",
        "#That's why we are going to use numpy array"
      ]
    },
    {
      "cell_type": "markdown",
      "source": [
        "#NumPy Arrays"
      ],
      "metadata": {
        "id": "3VRvciB_feAo"
      }
    },
    {
      "cell_type": "code",
      "source": [
        "import numpy as np\n",
        "a1 = np.array([1,2,3,4,5])\n",
        "a2 = np.arange(0,10,2)\n",
        "a3 = np.linspace(1,10,2)\n",
        "print(a1, a2, a3)\n",
        "print(type(a2))"
      ],
      "metadata": {
        "colab": {
          "base_uri": "https://localhost:8080/"
        },
        "id": "LNqIZSE-fful",
        "outputId": "6e700256-97e0-4745-b0ce-1d6fcd11022a"
      },
      "execution_count": 8,
      "outputs": [
        {
          "output_type": "stream",
          "name": "stdout",
          "text": [
            "[1 2 3 4 5] [0 2 4 6 8] [ 1. 10.]\n",
            "<class 'numpy.ndarray'>\n"
          ]
        }
      ]
    },
    {
      "cell_type": "code",
      "source": [
        "a3 = np.zeros(5)  #creates an array of zeros\n",
        "#print(a3)\n",
        "#a4 = np.ones(5)   #creates an array of ones\n",
        "#print(a4)\n",
        "#a5 = np.random.randint(1,100,10)\n",
        "#print(a5)\n",
        "a6 = np.eye(5)\n",
        "print(a6)\n",
        "a7 =  np.random.random((2,4))  #np.random is the module and random() is the function\n",
        "print(a7)\n",
        "print(a7.shape)\n",
        "print(a7.dtype)\n",
        "print(a7[1,2])"
      ],
      "metadata": {
        "colab": {
          "base_uri": "https://localhost:8080/"
        },
        "id": "gwGDb8MEg0RF",
        "outputId": "0ad67147-9388-4cd4-b8ff-7f0b6773fa26"
      },
      "execution_count": 35,
      "outputs": [
        {
          "output_type": "stream",
          "name": "stdout",
          "text": [
            "[[1. 0. 0. 0. 0.]\n",
            " [0. 1. 0. 0. 0.]\n",
            " [0. 0. 1. 0. 0.]\n",
            " [0. 0. 0. 1. 0.]\n",
            " [0. 0. 0. 0. 1.]]\n",
            "[[0.72969305 0.73977482 0.30644558 0.81734   ]\n",
            " [0.14728293 0.99145807 0.58152949 0.63010365]]\n",
            "(2, 4)\n",
            "float64\n",
            "0.5815294924519714\n"
          ]
        }
      ]
    },
    {
      "cell_type": "code",
      "source": [
        "list1= [1,2,3,4,5]\n",
        "r1 = np.array(list1)\n",
        "print(r1)\n",
        "print(r1.shape)\n",
        "print(r1.dtype)\n",
        "list2 = [1, \"abid\", True, False, 5]\n",
        "r2 =  np.array ([list1, list2])\n",
        "print(r2)\n",
        "print(r2.shape)\n",
        "print(r2.dtype)\n",
        "print(r1[r1>2])\n",
        "nums = np.arange(10)\n",
        "print(nums)\n",
        "print(nums[nums>5])"
      ],
      "metadata": {
        "colab": {
          "base_uri": "https://localhost:8080/"
        },
        "id": "V41pxxfHkq9X",
        "outputId": "9c578744-7ce6-4fc7-abdb-5da2ed8212d1"
      },
      "execution_count": 45,
      "outputs": [
        {
          "output_type": "stream",
          "name": "stdout",
          "text": [
            "[1 2 3 4 5]\n",
            "(5,)\n",
            "int64\n",
            "[['1' '2' '3' '4' '5']\n",
            " ['1' 'abid' 'True' 'False' '5']]\n",
            "(2, 5)\n",
            "<U21\n",
            "[3 4 5]\n",
            "[0 1 2 3 4 5 6 7 8 9]\n",
            "[6 7 8 9]\n"
          ]
        }
      ]
    }
  ]
}